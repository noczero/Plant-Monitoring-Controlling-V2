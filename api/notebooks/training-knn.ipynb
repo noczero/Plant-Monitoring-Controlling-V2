{
 "cells": [
  {
   "cell_type": "markdown",
   "metadata": {
    "collapsed": true,
    "pycharm": {
     "name": "#%% md\n"
    }
   },
   "source": [
    "# Preprocessing Data"
   ]
  },
  {
   "cell_type": "code",
   "execution_count": 1,
   "metadata": {
    "pycharm": {
     "name": "#%%\n"
    }
   },
   "outputs": [],
   "source": [
    "# import package\n",
    "import sys\n",
    "import numpy as np\n",
    "import pandas as pd"
   ]
  },
  {
   "cell_type": "code",
   "execution_count": 2,
   "metadata": {
    "pycharm": {
     "name": "#%%\n"
    }
   },
   "outputs": [],
   "source": [
    "# load dataset\n",
    "datasets = {\n",
    "    'bayam' : '../datasets/bayam_datasets.csv',\n",
    "    'caisim' : '../datasets/caisim_datasets.csv'\n",
    "}\n",
    "\n",
    "raw_data = {}\n",
    "for plant_name, path in datasets.items():\n",
    "    raw_data[plant_name] = pd.read_csv(path)"
   ]
  },
  {
   "cell_type": "code",
   "execution_count": 3,
   "metadata": {
    "pycharm": {
     "name": "#%%\n"
    }
   },
   "outputs": [],
   "source": [
    "# preprocessing\n",
    "# set label bayam merah\n",
    "# 4 - 2 - 1 - 3 - 5 ( Optimal - Non Optimal)\n",
    "\n",
    "# set label caisim\n",
    "# 1 - 2 - 4 -5 - 3 ( Optimal - Non Optimal)\n",
    "optimal_list = {\n",
    "    'bayam' : ['Bayam_Pot4',\n",
    "                'Bayam_Pot2',\n",
    "               'Bayam_Pot1',\n",
    "              ],\n",
    "    'caisim' : ['Caisim 1',\n",
    "                'Caisim 2',\n",
    "                'Caisim 4',]\n",
    "}\n",
    "\n",
    "not_optimal_list = {\n",
    "    'bayam' : ['Bayam_Pot3',\n",
    "               'Bayam_Pot5'],\n",
    "    'caisim' : ['Caisim 5',\n",
    "                'Caisim 3']\n",
    "}\n",
    "\n",
    "\n",
    "pre_processing_data = {}\n",
    "\n",
    "for plant_name, path in datasets.items():\n",
    "    list_pd = []\n",
    "    for index, row in raw_data[plant_name].iterrows():\n",
    "        # change soil moisture to 0 : Low, 50 : Normwl, 100 : High\n",
    "\n",
    "        if row['name'] in optimal_list[plant_name]:\n",
    "            # change status to optimal,\n",
    "\n",
    "            # modify status if low to normal or high, as its not possible to high\n",
    "            if row['soil_moisture'] == 'Low':\n",
    "                row['soil_moisture'] = 'Normal'\n",
    "\n",
    "            row['STATUS'] = 'Optimal'\n",
    "\n",
    "        elif row['name'] in not_optimal_list[plant_name]:\n",
    "            # change status to not optimal_list\n",
    "            row['soil_moisture'] = 'Low' # change soil_moisture to Low\n",
    "            row['STATUS'] = 'Not Optimal'\n",
    "\n",
    "        # add new column for numerical features in knn instead of categorical features\n",
    "        if row['soil_moisture'] == 'Low':\n",
    "            row['soil_moisture_encode'] = 0\n",
    "\n",
    "        if row['soil_moisture'] == 'Normal':\n",
    "            row['soil_moisture_encode'] = 50\n",
    "\n",
    "        if row['soil_moisture'] == 'High':\n",
    "            row['soil_moisture_encode'] = 100\n",
    "\n",
    "        list_pd.append(row)\n",
    "    pre_processing_data[plant_name] = pd.DataFrame(list_pd)\n"
   ]
  },
  {
   "cell_type": "code",
   "execution_count": 4,
   "metadata": {
    "pycharm": {
     "name": "#%%\n"
    }
   },
   "outputs": [],
   "source": [
    "# save to excel format\n",
    "preprocessing_save_path = {\n",
    "    'bayam' : '../datasets/bayam_datasets_preprocessing.xlsx',\n",
    "    'caisim' : '../datasets/caisim_datasets_preprocessing.xlsx'\n",
    "}\n",
    "\n",
    "for plant_name, saved_path in preprocessing_save_path.items():\n",
    "    # save prerpocessing result as excel\n",
    "    pre_processing_data[plant_name].to_excel(saved_path, header=True, index=False)"
   ]
  },
  {
   "cell_type": "markdown",
   "metadata": {},
   "source": [
    "# Training and Testing KNN Model\n",
    "\n",
    "just run this step, skip preprocessing step and load from existing preprocesing file"
   ]
  },
  {
   "cell_type": "code",
   "execution_count": 1,
   "metadata": {
    "pycharm": {
     "name": "#%%\n"
    }
   },
   "outputs": [],
   "source": [
    "# import library\n",
    "import pickle\n",
    "import pandas as pd\n",
    "import numpy as np\n",
    "from sklearn import metrics\n",
    "from sklearn.metrics import classification_report\n",
    "from sklearn.neighbors import KNeighborsClassifier\n",
    "from sklearn.model_selection import train_test_split"
   ]
  },
  {
   "cell_type": "code",
   "execution_count": 2,
   "metadata": {
    "pycharm": {
     "name": "#%%\n"
    }
   },
   "outputs": [],
   "source": [
    "# load from preprocessing files\n",
    "preprocessing_save_path = {\n",
    "    'bayam' : '../datasets/bayam_datasets_preprocessing.xlsx',\n",
    "    'caisim' : '../datasets/caisim_datasets_preprocessing.xlsx'\n",
    "}\n",
    "pre_processing_data = {}\n",
    "\n",
    "for plant_name, saved_path in preprocessing_save_path.items():\n",
    "    # save prerpocessing result as excel\n",
    "    pre_processing_data[plant_name] = pd.read_excel(saved_path)"
   ]
  },
  {
   "cell_type": "code",
   "execution_count": 3,
   "metadata": {
    "pycharm": {
     "name": "#%%\n"
    }
   },
   "outputs": [],
   "source": [
    "# prepare training and testing data\n",
    "\n",
    "training_features_column = ['temperature', 'humidity', 'light_intensity', 'soil_moisture_encode']\n",
    "target_column = ['STATUS']\n",
    "list_plant_name = ['bayam', 'caisim']\n",
    "X_train = {}\n",
    "X_test = {}\n",
    "y_train = {}\n",
    "y_test = {}\n",
    "for plant_name in list_plant_name:\n",
    "    # Split dataset into training set and test set\n",
    "    X_train[plant_name], X_test[plant_name], y_train[plant_name], y_test[plant_name] = train_test_split(pre_processing_data[plant_name][training_features_column], pre_processing_data[plant_name][target_column], test_size=0.3)\n",
    "\n",
    "#pre_processing_data['bayam'][training_features_column]"
   ]
  },
  {
   "cell_type": "code",
   "execution_count": 4,
   "metadata": {
    "pycharm": {
     "name": "#%%\n"
    }
   },
   "outputs": [
    {
     "name": "stdout",
     "output_type": "stream",
     "text": [
      "KNN Performance Report for bayam models: \n",
      "Accuracy : 99.95 %\n",
      "Classification Report :               precision    recall  f1-score   support\n",
      "\n",
      "     Optimal       1.00      1.00      1.00      7760\n",
      " Not Optimal       1.00      1.00      1.00     11700\n",
      "\n",
      "    accuracy                           1.00     19460\n",
      "   macro avg       1.00      1.00      1.00     19460\n",
      "weighted avg       1.00      1.00      1.00     19460\n",
      "\n",
      "KNN Performance Report for caisim models: \n",
      "Accuracy : 99.37 %\n",
      "Classification Report :               precision    recall  f1-score   support\n",
      "\n",
      "     Optimal       0.99      0.99      0.99      1665\n",
      " Not Optimal       1.00      0.99      0.99      2445\n",
      "\n",
      "    accuracy                           0.99      4110\n",
      "   macro avg       0.99      0.99      0.99      4110\n",
      "weighted avg       0.99      0.99      0.99      4110\n",
      "\n"
     ]
    }
   ],
   "source": [
    "saved_model_path = {\n",
    "    'bayam' : '../trained/bayam_knn_model.sav',\n",
    "    'caisim' : '../trained/caisim_knn_model.sav'\n",
    "}\n",
    "\n",
    "#Train the model using the training sets\n",
    "for plant_name in list_plant_name:\n",
    "    #Create KNN Classifier\n",
    "    knn = KNeighborsClassifier(n_neighbors=5)\n",
    "\n",
    "    # train model\n",
    "    knn.fit(X_train[plant_name], np.ravel(y_train[plant_name]))\n",
    "\n",
    "    #Predict the response for test dataset\n",
    "    y_pred = knn.predict(X_test[plant_name])\n",
    "\n",
    "    # Model Accuracy, how often is the classifier correct?'\n",
    "    clf_report = classification_report(y_test[plant_name], y_pred, target_names=[\"Optimal\", \"Not Optimal\"])\n",
    "    accuracy = metrics.accuracy_score(y_test[plant_name], y_pred) * 100\n",
    "\n",
    "    print(f\"KNN Performance Report for {plant_name} models: \")\n",
    "    print(f\"Accuracy : {accuracy:.2f} %\")\n",
    "    print(f\"Classification Report : {clf_report}\")\n",
    "\n",
    "    # save the model\n",
    "    pickle.dump(knn, open(saved_model_path[plant_name].format(accuracy), 'wb'))"
   ]
  },
  {
   "cell_type": "code",
   "execution_count": null,
   "metadata": {},
   "outputs": [],
   "source": []
  }
 ],
 "metadata": {
  "kernelspec": {
   "display_name": "Python 3 (ipykernel)",
   "language": "python",
   "name": "python3"
  },
  "language_info": {
   "codemirror_mode": {
    "name": "ipython",
    "version": 3
   },
   "file_extension": ".py",
   "mimetype": "text/x-python",
   "name": "python",
   "nbconvert_exporter": "python",
   "pygments_lexer": "ipython3",
   "version": "3.7.3"
  }
 },
 "nbformat": 4,
 "nbformat_minor": 1
}
