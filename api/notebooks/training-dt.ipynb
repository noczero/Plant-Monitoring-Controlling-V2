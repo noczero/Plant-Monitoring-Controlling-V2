{
 "cells": [
  {
   "cell_type": "markdown",
   "metadata": {
    "collapsed": true,
    "pycharm": {
     "name": "#%% md\n"
    }
   },
   "source": [
    "# Preprocessing Data"
   ]
  },
  {
   "cell_type": "code",
   "execution_count": 1,
   "metadata": {
    "pycharm": {
     "name": "#%%\n"
    }
   },
   "outputs": [],
   "source": [
    "# import package\n",
    "import sys\n",
    "import numpy as np\n",
    "import pandas as pd"
   ]
  },
  {
   "cell_type": "code",
   "execution_count": 2,
   "metadata": {
    "pycharm": {
     "name": "#%%\n"
    }
   },
   "outputs": [],
   "source": [
    "# load dataset\n",
    "datasets = {\n",
    "    'kale' : '../datasets/dataset_kale.csv',\n",
    "    'seledri' : '../datasets/dataset_seledri.csv'\n",
    "}\n",
    "\n",
    "raw_data = {}\n",
    "for plant_name, path in datasets.items():\n",
    "    raw_data[plant_name] = pd.read_csv(path)"
   ]
  },
  {
   "cell_type": "code",
   "execution_count": 3,
   "metadata": {
    "pycharm": {
     "name": "#%%\n"
    }
   },
   "outputs": [],
   "source": [
    "# preprocessing\n",
    "# set label kale\n",
    "# 1 - 3 - 5 - 2 - 4 ( Optimal - Non Optimal)\n",
    "\n",
    "# set label seledri\n",
    "# 2 - 5 - 1 - 4 - 3 ( Optimal - Non Optimal)\n",
    "optimal_list = {\n",
    "    'kale' : ['Kale1',\n",
    "                'Kale3',\n",
    "               'Kale5',\n",
    "              ],\n",
    "    'seledri' : ['Seledri 2',\n",
    "                'Seledri 5',\n",
    "                'Seledri 1',]\n",
    "}\n",
    "\n",
    "not_optimal_list = {\n",
    "    'kale' : ['Kale2',\n",
    "               'Kale4'],\n",
    "    'seledri' : ['Seledri 4',\n",
    "                'Seledri 3']\n",
    "}\n",
    "\n",
    "\n",
    "pre_processing_data = {}\n",
    "\n",
    "for plant_name, path in datasets.items():\n",
    "    list_pd = []\n",
    "    for index, row in raw_data[plant_name].iterrows():\n",
    "        # change soil moisture to 0 : Low, 50 : Normwl, 100 : High\n",
    "\n",
    "        if row['name'] in optimal_list[plant_name]:\n",
    "            # change status to optimal,\n",
    "\n",
    "            # modify status if low to normal or high, as its not possible to high\n",
    "            if row['soil_moisture'] == 'Low':\n",
    "                row['soil_moisture'] = 'Normal'\n",
    "\n",
    "            row['status'] = 'Optimal'\n",
    "\n",
    "        elif row['name'] in not_optimal_list[plant_name]:\n",
    "            # change status to not optimal_list\n",
    "            row['soil_moisture'] = 'Low' # change soil_moisture to Low\n",
    "            row['status'] = 'Not Optimal'\n",
    "\n",
    "        # add new column for numerical features in knn instead of categorical features\n",
    "        if row['soil_moisture'] == 'Low':\n",
    "            row['soil_moisture_encode'] = 0\n",
    "\n",
    "        if row['soil_moisture'] == 'Normal':\n",
    "            row['soil_moisture_encode'] = 50\n",
    "\n",
    "        if row['soil_moisture'] == 'High':\n",
    "            row['soil_moisture_encode'] = 100\n",
    "\n",
    "        list_pd.append(row)\n",
    "    pre_processing_data[plant_name] = pd.DataFrame(list_pd)\n",
    "\n",
    "    # remove nan values\n",
    "    pre_processing_data[plant_name].dropna(inplace=True)\n"
   ]
  },
  {
   "cell_type": "code",
   "execution_count": 4,
   "metadata": {
    "pycharm": {
     "name": "#%%\n"
    }
   },
   "outputs": [],
   "source": [
    "# save to excel format\n",
    "preprocessing_save_path = {\n",
    "    'kale' : '../datasets/kale_datasets_preprocessing.xlsx',\n",
    "    'seledri' : '../datasets/seledri_datasets_preprocessing.xlsx'\n",
    "}\n",
    "\n",
    "for plant_name, saved_path in preprocessing_save_path.items():\n",
    "    # save prerpocessing result as excel\n",
    "    pre_processing_data[plant_name].to_excel(saved_path, header=True, index=False)"
   ]
  },
  {
   "cell_type": "markdown",
   "metadata": {},
   "source": [
    "# Training and Testing Decision Tree Model\n",
    "\n",
    "just run this step, skip preprocessing step and load from exisiting preprocessing file"
   ]
  },
  {
   "cell_type": "code",
   "execution_count": 1,
   "metadata": {
    "pycharm": {
     "name": "#%%\n"
    }
   },
   "outputs": [],
   "source": [
    "# import library\n",
    "import pickle\n",
    "import numpy as np\n",
    "import pandas as pd\n",
    "from sklearn import metrics\n",
    "from sklearn.tree import DecisionTreeClassifier\n",
    "from sklearn.metrics import classification_report\n",
    "from sklearn.model_selection import train_test_split"
   ]
  },
  {
   "cell_type": "code",
   "execution_count": 3,
   "metadata": {
    "pycharm": {
     "name": "#%%\n"
    }
   },
   "outputs": [],
   "source": [
    "# load from preprocessing files\n",
    "preprocessing_save_path = {\n",
    "    'kale' : '../datasets/kale_datasets_preprocessing.xlsx',\n",
    "    'seledri' : '../datasets/seledri_datasets_preprocessing.xlsx'\n",
    "}\n",
    "pre_processing_data = {}\n",
    "\n",
    "for plant_name, saved_path in preprocessing_save_path.items():\n",
    "    # save prerpocessing result as excel\n",
    "    pre_processing_data[plant_name] = pd.read_excel(saved_path)"
   ]
  },
  {
   "cell_type": "code",
   "execution_count": 4,
   "metadata": {
    "pycharm": {
     "name": "#%%\n"
    }
   },
   "outputs": [],
   "source": [
    "# prepare training and testing data\n",
    "training_features_column = ['temperature', 'humidity', 'light_intensity', 'soil_moisture_encode']\n",
    "target_column = ['status']\n",
    "list_plant_name = ['kale','seledri']\n",
    "X_train = {}\n",
    "X_test = {}\n",
    "y_train = {}\n",
    "y_test = {}\n",
    "for plant_name in list_plant_name:\n",
    "    # Split dataset into training set and test set\n",
    "    X_train[plant_name], X_test[plant_name], y_train[plant_name], y_test[plant_name] = train_test_split(pre_processing_data[plant_name][training_features_column], pre_processing_data[plant_name][target_column], test_size=0.3)\n",
    "\n",
    "#pre_processing_data['kale'][training_features_column]"
   ]
  },
  {
   "cell_type": "code",
   "execution_count": 5,
   "metadata": {
    "pycharm": {
     "name": "#%%\n"
    }
   },
   "outputs": [
    {
     "name": "stdout",
     "output_type": "stream",
     "text": [
      "Decision Tree Performance Report for kale models: \n",
      "Accuracy : 100.00 %\n",
      "Classification Report :               precision    recall  f1-score   support\n",
      "\n",
      "     Optimal       1.00      1.00      1.00      7343\n",
      " Not Optimal       1.00      1.00      1.00     11218\n",
      "\n",
      "    accuracy                           1.00     18561\n",
      "   macro avg       1.00      1.00      1.00     18561\n",
      "weighted avg       1.00      1.00      1.00     18561\n",
      "\n",
      "Decision Tree Performance Report for seledri models: \n",
      "Accuracy : 100.00 %\n",
      "Classification Report :               precision    recall  f1-score   support\n",
      "\n",
      "     Optimal       1.00      1.00      1.00      7103\n",
      " Not Optimal       1.00      1.00      1.00     10372\n",
      "\n",
      "    accuracy                           1.00     17475\n",
      "   macro avg       1.00      1.00      1.00     17475\n",
      "weighted avg       1.00      1.00      1.00     17475\n",
      "\n"
     ]
    }
   ],
   "source": [
    "# make model and testing\n",
    "saved_model_path = {\n",
    "    'kale' : '../trained/kale_dt_model.sav',\n",
    "    'seledri' : '../trained/seledri_dt_model.sav'\n",
    "}\n",
    "\n",
    "#Train the model using the training sets\n",
    "for plant_name in list_plant_name:\n",
    "    # create decision tree classifier\n",
    "    clf = DecisionTreeClassifier(random_state=0,max_depth=3)\n",
    "\n",
    "    # train model dt\n",
    "    decision_tree_clf = clf.fit(X_train[plant_name], np.ravel(y_train[plant_name]))\n",
    "\n",
    "    #Predict the response for test dataset\n",
    "    y_pred = decision_tree_clf.predict(X_test[plant_name])\n",
    "\n",
    "    # Model Accuracy, how often is the classifier correct?'\n",
    "    clf_report = classification_report(y_test[plant_name], y_pred, target_names=[\"Optimal\", \"Not Optimal\"])\n",
    "    accuracy = metrics.accuracy_score(y_test[plant_name], y_pred) * 100\n",
    "\n",
    "    print(f\"Decision Tree Performance Report for {plant_name} models: \")\n",
    "    print(f\"Accuracy : {accuracy:.2f} %\")\n",
    "    print(f\"Classification Report : {clf_report}\")\n",
    "\n",
    "    # save the model\n",
    "    pickle.dump(decision_tree_clf, open(saved_model_path[plant_name].format(accuracy), 'wb'))"
   ]
  },
  {
   "cell_type": "code",
   "execution_count": null,
   "metadata": {},
   "outputs": [],
   "source": []
  },
  {
   "cell_type": "code",
   "execution_count": null,
   "metadata": {},
   "outputs": [],
   "source": []
  }
 ],
 "metadata": {
  "kernelspec": {
   "display_name": "Python 3 (ipykernel)",
   "language": "python",
   "name": "python3"
  },
  "language_info": {
   "codemirror_mode": {
    "name": "ipython",
    "version": 3
   },
   "file_extension": ".py",
   "mimetype": "text/x-python",
   "name": "python",
   "nbconvert_exporter": "python",
   "pygments_lexer": "ipython3",
   "version": "3.7.3"
  }
 },
 "nbformat": 4,
 "nbformat_minor": 1
}
